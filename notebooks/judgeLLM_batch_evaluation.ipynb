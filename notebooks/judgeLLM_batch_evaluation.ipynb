{
 "cells": [
  {
   "cell_type": "markdown",
   "metadata": {},
   "source": [
    "# Batch Judge Evaluation\n",
    "\n",
    "Simple interface for running and monitoring Gemini API batch evaluation jobs with context caching."
   ]
  },
  {
   "cell_type": "code",
   "execution_count": 7,
   "metadata": {},
   "outputs": [
    {
     "name": "stdout",
     "output_type": "stream",
     "text": [
      "✅ Project root: /Users/timo/Documents/Thesis/xai-credit-decisions\n",
      "✅ Config loaded\n"
     ]
    }
   ],
   "source": [
    "# Setup\n",
    "import sys\n",
    "from pathlib import Path\n",
    "import pandas as pd\n",
    "import time\n",
    "import warnings\n",
    "\n",
    "project_root = Path.cwd().parent if Path.cwd().name == \"notebooks\" else Path.cwd()\n",
    "sys.path.insert(0, str(project_root))\n",
    "sys.path.insert(1, str(project_root / \"src\"))\n",
    "\n",
    "warnings.filterwarnings(\"ignore\", category=UserWarning,\n",
    "module=\"google.genai._common\")\n",
    "\n",
    "import json\n",
    "from config.config import settings\n",
    "from xai_pkg.evaluator.judgeLLM import JudgeLLM\n",
    "from xai_pkg.evaluator.utils import save_batch_results, process_batch_results\n",
    "\n",
    "print(f\"✅ Project root: {project_root}\")\n",
    "print(f\"✅ Config loaded\")"
   ]
  },
  {
   "cell_type": "markdown",
   "metadata": {},
   "source": [
    "## Configuration"
   ]
  },
  {
   "cell_type": "code",
   "execution_count": 8,
   "metadata": {},
   "outputs": [],
   "source": [
    "# Load configuration\n",
    "judge_model = settings.get(\"default_judge\", \"gemini-2.5-flash\")\n",
    "fallback_model = settings.get(\"judge_fallback\", \"llama3.2-3b\")\n",
    "\n",
    "# Initialize evaluator\n",
    "judge = JudgeLLM(judge_name=judge_model)"
   ]
  },
  {
   "cell_type": "markdown",
   "metadata": {},
   "source": [
    "## Submit Batch Job\n",
    "\n",
    "**Data Sources:**\n",
    "- **Explanations**: DynamoDB (primary) → JSON fallback  \n",
    "- **Predictions Context**: JSON file (for age, income, etc.)\n",
    "- Why both? Explanations only contain the text, not input data needed for evaluation"
   ]
  },
  {
   "cell_type": "code",
   "execution_count": 9,
   "metadata": {},
   "outputs": [
    {
     "name": "stdout",
     "output_type": "stream",
     "text": [
      "1200\n"
     ]
    }
   ],
   "source": [
    "# Print available explanations\n",
    "explanations = judge._load_explanations_from_dynamo()\n",
    "print(len(explanations))"
   ]
  },
  {
   "cell_type": "code",
   "execution_count": 10,
   "metadata": {},
   "outputs": [],
   "source": [
    "# Submit batch evaluation job\n",
    "\n",
    "NUM_EXPLANATIONS_LIMIT = None # Adjust as needed - start small to test\n",
    "USE_CONTEXT_CACHING = True # Enables massive token savings\n",
    "USE_DYNAMODB = True # Try DynamoDB first, fallback to JSON\n",
    "\n",
    "if input(f\"Do you want to submit a new batch job with {NUM_EXPLANATIONS_LIMIT} explanations? (y/n)\") == \"y\":\n",
    "\n",
    "    job_info = judge.submit_batch_job(\n",
    "        predictions_file=project_root / \"output\" / \"predictions\" / \"prediction_results.json\",\n",
    "        num_explanations=NUM_EXPLANATIONS_LIMIT,\n",
    "        cache_system_prompt=USE_CONTEXT_CACHING,\n",
    "        use_dynamo=USE_DYNAMODB,\n",
    "        force_submit=False\n",
    "    )\n",
    "    print(job_info)"
   ]
  },
  {
   "cell_type": "markdown",
   "metadata": {},
   "source": [
    "## Monitor Job Status"
   ]
  },
  {
   "cell_type": "code",
   "execution_count": 11,
   "metadata": {},
   "outputs": [
    {
     "data": {
      "text/html": [
       "<div>\n",
       "<style scoped>\n",
       "    .dataframe tbody tr th:only-of-type {\n",
       "        vertical-align: middle;\n",
       "    }\n",
       "\n",
       "    .dataframe tbody tr th {\n",
       "        vertical-align: top;\n",
       "    }\n",
       "\n",
       "    .dataframe thead th {\n",
       "        text-align: right;\n",
       "    }\n",
       "</style>\n",
       "<table border=\"1\" class=\"dataframe\">\n",
       "  <thead>\n",
       "    <tr style=\"text-align: right;\">\n",
       "      <th></th>\n",
       "      <th>job_id</th>\n",
       "      <th>display_name</th>\n",
       "      <th>state</th>\n",
       "      <th>create_time</th>\n",
       "    </tr>\n",
       "  </thead>\n",
       "  <tbody>\n",
       "    <tr>\n",
       "      <th>0</th>\n",
       "      <td>batches/65s8qwgnmlqfjs5x8irnv6yktjl9ibt64ph0</td>\n",
       "      <td>credit-explanation-evaluation-1200-explanation...</td>\n",
       "      <td>JOB_STATE_SUCCEEDED</td>\n",
       "      <td>2025-08-29 15:15:05.178404+00:00</td>\n",
       "    </tr>\n",
       "    <tr>\n",
       "      <th>1</th>\n",
       "      <td>batches/x9hd8fajgq4fc6tbkznsakpyy0945v0kv1oa</td>\n",
       "      <td>credit-explanation-evaluation-1200-explanation...</td>\n",
       "      <td>JOB_STATE_SUCCEEDED</td>\n",
       "      <td>2025-08-28 17:11:48.961958+00:00</td>\n",
       "    </tr>\n",
       "    <tr>\n",
       "      <th>2</th>\n",
       "      <td>batches/h4p7s1ddp2m0mzalzq77ejoex82w8gnlbzwh</td>\n",
       "      <td>credit-explanation-evaluation-669-explanations...</td>\n",
       "      <td>JOB_STATE_CANCELLED</td>\n",
       "      <td>2025-08-28 17:10:07.882755+00:00</td>\n",
       "    </tr>\n",
       "    <tr>\n",
       "      <th>3</th>\n",
       "      <td>batches/p57vv3ftits6f8qe3ef4h2ji409o559u1229</td>\n",
       "      <td>credit-explanation-evaluation-40-explanations-...</td>\n",
       "      <td>JOB_STATE_SUCCEEDED</td>\n",
       "      <td>2025-08-28 12:20:53.221625+00:00</td>\n",
       "    </tr>\n",
       "    <tr>\n",
       "      <th>4</th>\n",
       "      <td>batches/33hspbyeegev3lr8n998mx7gygflsrm5tyxx</td>\n",
       "      <td>credit-explanation-evaluation-1200-explanation...</td>\n",
       "      <td>JOB_STATE_SUCCEEDED</td>\n",
       "      <td>2025-08-27 21:57:01.656648+00:00</td>\n",
       "    </tr>\n",
       "  </tbody>\n",
       "</table>\n",
       "</div>"
      ],
      "text/plain": [
       "                                         job_id  \\\n",
       "0  batches/65s8qwgnmlqfjs5x8irnv6yktjl9ibt64ph0   \n",
       "1  batches/x9hd8fajgq4fc6tbkznsakpyy0945v0kv1oa   \n",
       "2  batches/h4p7s1ddp2m0mzalzq77ejoex82w8gnlbzwh   \n",
       "3  batches/p57vv3ftits6f8qe3ef4h2ji409o559u1229   \n",
       "4  batches/33hspbyeegev3lr8n998mx7gygflsrm5tyxx   \n",
       "\n",
       "                                        display_name                state  \\\n",
       "0  credit-explanation-evaluation-1200-explanation...  JOB_STATE_SUCCEEDED   \n",
       "1  credit-explanation-evaluation-1200-explanation...  JOB_STATE_SUCCEEDED   \n",
       "2  credit-explanation-evaluation-669-explanations...  JOB_STATE_CANCELLED   \n",
       "3  credit-explanation-evaluation-40-explanations-...  JOB_STATE_SUCCEEDED   \n",
       "4  credit-explanation-evaluation-1200-explanation...  JOB_STATE_SUCCEEDED   \n",
       "\n",
       "                        create_time  \n",
       "0  2025-08-29 15:15:05.178404+00:00  \n",
       "1  2025-08-28 17:11:48.961958+00:00  \n",
       "2  2025-08-28 17:10:07.882755+00:00  \n",
       "3  2025-08-28 12:20:53.221625+00:00  \n",
       "4  2025-08-27 21:57:01.656648+00:00  "
      ]
     },
     "metadata": {},
     "output_type": "display_data"
    },
    {
     "name": "stdout",
     "output_type": "stream",
     "text": [
      "Target job status: {'job_id': 'batches/65s8qwgnmlqfjs5x8irnv6yktjl9ibt64ph0', 'state': 'JOB_STATE_SUCCEEDED', 'create_time': '2025-08-29 15:15:05.178404+00:00', 'update_time': '2025-08-29 15:42:54.352836+00:00', 'request_count': 0}\n"
     ]
    }
   ],
   "source": [
    "# Check job status\n",
    "recent_jobs = judge.list_batch_jobs(limit=5)\n",
    "jobs_df = pd.DataFrame(recent_jobs)\n",
    "\n",
    "\n",
    "# judge.cancel_batch_job(\"batches/h4p7s1ddp2m0mzalzq77ejoex82w8gnlbzwh\")\n",
    "\n",
    "if not jobs_df.empty:\n",
    "    display(jobs_df)\n",
    "\n",
    "    job_status = judge.check_batch_status(jobs_df.iloc[0]['job_id'])\n",
    "    print(f\"Target job status: {job_status}\")\n",
    "else:\n",
    "    print(\"No batch jobs found\")"
   ]
  },
  {
   "cell_type": "markdown",
   "metadata": {},
   "source": [
    "## Get Batch Results for specific job"
   ]
  },
  {
   "cell_type": "code",
   "execution_count": 13,
   "metadata": {},
   "outputs": [
    {
     "name": "stdout",
     "output_type": "stream",
     "text": [
      "Retrieved 1199 results\n",
      "Files saved:\n",
      "  /Users/timo/Documents/Thesis/xai-credit-decisions/output/evaluations/batch_results_raw_65s8qwgnmlqfjs5x8irnv6yktjl9ibt64ph0.json\n",
      "\n",
      "Sample result keys: ['evaluation_result', 'metadata', 'batch_index']\n"
     ]
    }
   ],
   "source": [
    "# Get batch results\n",
    "target_job_id = \"batches/65s8qwgnmlqfjs5x8irnv6yktjl9ibt64ph0\" # Final evaluation ID\n",
    "\n",
    "job_info = {\n",
    "    'job_id': target_job_id,\n",
    "    'request_count': 1200,\n",
    "    'timestamp': int(time.time())\n",
    "}\n",
    "\n",
    "results = judge.get_batch_results(job_info)\n",
    "print(f\"Retrieved {len(results)} results\")\n",
    "\n",
    "if results:\n",
    "    # Save results\n",
    "    from xai_pkg.evaluator.utils import save_batch_results\n",
    "    \n",
    "    output_dir = project_root / \"output\" / \"evaluations\"\n",
    "    saved_files = save_batch_results(results, job_info, output_dir, filename_prefix=\"batch_results\", return_format=\"json\")\n",
    "    \n",
    "    print(\"Files saved:\")\n",
    "    for file_type, filepath in saved_files.items():\n",
    "        print(f\"  {filepath}\")\n",
    "        \n",
    "    # Quick stats\n",
    "    print(f\"\\nSample result keys: {list(results[0].keys())}\")"
   ]
  }
 ],
 "metadata": {
  "kernelspec": {
   "display_name": ".venv",
   "language": "python",
   "name": "python3"
  },
  "language_info": {
   "codemirror_mode": {
    "name": "ipython",
    "version": 3
   },
   "file_extension": ".py",
   "mimetype": "text/x-python",
   "name": "python",
   "nbconvert_exporter": "python",
   "pygments_lexer": "ipython3",
   "version": "3.10.18"
  }
 },
 "nbformat": 4,
 "nbformat_minor": 4
}
